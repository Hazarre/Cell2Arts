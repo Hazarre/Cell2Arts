{
 "cells": [
  {
   "cell_type": "code",
   "execution_count": 2,
   "metadata": {},
   "outputs": [],
   "source": [
    "import IPython.display as display\n",
    "from PIL import Image\n",
    "import numpy as np\n",
    "import matplotlib.pyplot as plt\n",
    "import os\n",
    "import pathlib"
   ]
  },
  {
   "cell_type": "code",
   "execution_count": 27,
   "metadata": {},
   "outputs": [],
   "source": [
    "source_dir = pathlib.Path(\"C:\\\\Users\\\\henry\\\\Desktop\\\\AI\\\\Final_project\\\\test_data\\\\TrainB\")\n",
    "dir_string = r\"C:\\\\Users\\\\henry\\\\Desktop\\AI\\Final_project\\\\test_data\\\\TrainB\\\\volumedata \"\n",
    "\n",
    "\n",
    "for i in range(1000):\n",
    "    in_name = dir_string + str(i) + '.jpg'\n",
    "    out_name = dir_string\n",
    "    if i < 10: \n",
    "        out_name += '000' +  str(i) + '.jpg'\n",
    "    if i >= 10 and i < 100: \n",
    "        out_name += '00' +  str(i) + '.jpg'\n",
    "    if i >= 100:\n",
    "        out_name += '0' +  str(i) + '.jpg'\n",
    "    os.rename(in_name,out_name) \n",
    "\n",
    "    \n"
   ]
  },
  {
   "cell_type": "code",
   "execution_count": null,
   "metadata": {},
   "outputs": [],
   "source": []
  }
 ],
 "metadata": {
  "kernelspec": {
   "display_name": "Python 3",
   "language": "python",
   "name": "python3"
  },
  "language_info": {
   "codemirror_mode": {
    "name": "ipython",
    "version": 3
   },
   "file_extension": ".py",
   "mimetype": "text/x-python",
   "name": "python",
   "nbconvert_exporter": "python",
   "pygments_lexer": "ipython3",
   "version": "3.7.7"
  }
 },
 "nbformat": 4,
 "nbformat_minor": 4
}
